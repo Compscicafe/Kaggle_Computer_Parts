{
 "cells": [
  {
   "cell_type": "code",
   "execution_count": 2,
   "id": "5e165b22-c0ea-45f9-9dd2-187f54663d93",
   "metadata": {},
   "outputs": [],
   "source": [
    "import pandas as pd"
   ]
  },
  {
   "cell_type": "code",
   "execution_count": 3,
   "id": "2ca12308-2150-4819-b8d7-529fada82075",
   "metadata": {},
   "outputs": [],
   "source": [
    "import numpy as np"
   ]
  },
  {
   "cell_type": "code",
   "execution_count": 7,
   "id": "d924fb26-43d0-40f4-8873-438fabe20e8a",
   "metadata": {},
   "outputs": [],
   "source": [
    "file_path = 'All_GPUs.csv'"
   ]
  },
  {
   "cell_type": "code",
   "execution_count": 8,
   "id": "77046be6-31fa-4267-bb55-962addf5f837",
   "metadata": {},
   "outputs": [],
   "source": [
    "data = pd.read_csv(file_path)"
   ]
  },
  {
   "cell_type": "code",
   "execution_count": 9,
   "id": "de5abf50-2b62-4929-a9a0-8c6a681c04ef",
   "metadata": {},
   "outputs": [
    {
     "name": "stdout",
     "output_type": "stream",
     "text": [
      "     Architecture Best_Resolution Boost_Clock Core_Speed  DVI_Connection  \\\n",
      "0     Tesla G92b              NaN         NaN    738 MHz             2.0   \n",
      "1        R600 XT       1366 x 768         NaN       \\n-              2.0   \n",
      "2       R600 PRO       1366 x 768         NaN       \\n-              2.0   \n",
      "3          RV630       1024 x 768         NaN       \\n-              2.0   \n",
      "4          RV630       1024 x 768         NaN       \\n-              2.0   \n",
      "...           ...             ...         ...        ...             ...   \n",
      "3401       MCP61              NaN         NaN       \\n-              1.0   \n",
      "3402       MCP61              NaN         NaN       \\n-              0.0   \n",
      "3403       MCP51              NaN         NaN       \\n-              0.0   \n",
      "3404       MCP51              NaN         NaN       \\n-              NaN   \n",
      "3405        NV43              NaN         NaN       \\n-              1.0   \n",
      "\n",
      "     Dedicated Direct_X  DisplayPort_Connection  HDMI_Connection Integrated  \\\n",
      "0          Yes  DX 10.0                     NaN              0.0         No   \n",
      "1          Yes    DX 10                     NaN              0.0         No   \n",
      "2          Yes    DX 10                     NaN              0.0         No   \n",
      "3          Yes    DX 10                     NaN              0.0         No   \n",
      "4          Yes    DX 10                     NaN              0.0         No   \n",
      "...        ...      ...                     ...              ...        ...   \n",
      "3401        No  DX 9.0c                     NaN              1.0        Yes   \n",
      "3402        No  DX 9.0c                     NaN              0.0        Yes   \n",
      "3403       NaN     DX 9                     NaN              0.0        NaN   \n",
      "3404        No  DX 9.0c                     NaN              0.0        Yes   \n",
      "3405       Yes  DX 9.0c                     NaN              0.0         No   \n",
      "\n",
      "      ... Process ROPs    Release_Date Release_Price Resolution_WxH  \\\n",
      "0     ...    55nm   16  \\n01-Mar-2009            NaN      2560x1600   \n",
      "1     ...    80nm   16  \\n14-May-2007            NaN      2560x1600   \n",
      "2     ...    80nm   16  \\n07-Dec-2007            NaN      2560x1600   \n",
      "3     ...    65nm    4  \\n01-Jul-2007            NaN      2560x1600   \n",
      "4     ...    65nm    4  \\n28-Jun-2007            NaN      2560x1600   \n",
      "...   ...     ...  ...             ...           ...            ...   \n",
      "3401  ...     NaN  NaN  \\n01-Jun-2006            NaN      2560x1600   \n",
      "3402  ...     NaN  NaN  \\n01-Jun-2006            NaN      2560x1600   \n",
      "3403  ...     NaN  NaN  \\n20-Oct-2005            NaN            NaN   \n",
      "3404  ...     NaN  NaN  \\n01-Nov-2005            NaN      2560x1600   \n",
      "3405  ...     NaN  NaN  \\n02-Jan-2004            NaN      2560x1600   \n",
      "\n",
      "     SLI_Crossfire Shader  TMUs Texture_Rate VGA_Connection  \n",
      "0              Yes    4.0  64.0  47 GTexel/s            0.0  \n",
      "1              Yes    4.0  16.0  12 GTexel/s            0.0  \n",
      "2              Yes    4.0  16.0  10 GTexel/s            0.0  \n",
      "3              Yes    4.0   8.0   7 GTexel/s            0.0  \n",
      "4              Yes    4.0   8.0   6 GTexel/s            0.0  \n",
      "...            ...    ...   ...          ...            ...  \n",
      "3401            No    3.0   NaN          NaN            1.0  \n",
      "3402            No    3.0   NaN          NaN            1.0  \n",
      "3403            No    NaN   NaN          NaN            0.0  \n",
      "3404            No    3.0   NaN          NaN            1.0  \n",
      "3405            No    3.0   NaN          NaN            1.0  \n",
      "\n",
      "[3406 rows x 34 columns]\n"
     ]
    }
   ],
   "source": [
    "print(data)"
   ]
  },
  {
   "cell_type": "code",
   "execution_count": null,
   "id": "dce45b22-368b-4bf3-95f4-8fc08fe420cc",
   "metadata": {},
   "outputs": [],
   "source": []
  }
 ],
 "metadata": {
  "kernelspec": {
   "display_name": "Python 3 (ipykernel)",
   "language": "python",
   "name": "python3"
  },
  "language_info": {
   "codemirror_mode": {
    "name": "ipython",
    "version": 3
   },
   "file_extension": ".py",
   "mimetype": "text/x-python",
   "name": "python",
   "nbconvert_exporter": "python",
   "pygments_lexer": "ipython3",
   "version": "3.12.2"
  }
 },
 "nbformat": 4,
 "nbformat_minor": 5
}
