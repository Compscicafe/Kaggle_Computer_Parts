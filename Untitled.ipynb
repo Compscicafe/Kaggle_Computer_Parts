{
 "cells": [
  {
   "cell_type": "code",
   "execution_count": 3,
   "id": "5e165b22-c0ea-45f9-9dd2-187f54663d93",
   "metadata": {},
   "outputs": [],
   "source": [
    "import pandas as pd"
   ]
  },
  {
   "cell_type": "code",
   "execution_count": 4,
   "id": "2ca12308-2150-4819-b8d7-529fada82075",
   "metadata": {},
   "outputs": [],
   "source": [
    "import numpy as np"
   ]
  },
  {
   "cell_type": "code",
   "execution_count": null,
   "id": "209acb55",
   "metadata": {},
   "outputs": [],
   "source": []
  },
  {
   "cell_type": "code",
   "execution_count": 5,
   "id": "d924fb26-43d0-40f4-8873-438fabe20e8a",
   "metadata": {},
   "outputs": [],
   "source": [
    "file_path = 'All_GPUs.csv'"
   ]
  },
  {
   "cell_type": "code",
   "execution_count": 6,
   "id": "77046be6-31fa-4267-bb55-962addf5f837",
   "metadata": {},
   "outputs": [],
   "source": [
    "data = pd.read_csv(file_path)"
   ]
  },
  {
   "cell_type": "code",
   "execution_count": 7,
   "id": "de5abf50-2b62-4929-a9a0-8c6a681c04ef",
   "metadata": {},
   "outputs": [
    {
     "name": "stdout",
     "output_type": "stream",
     "text": [
      "     Architecture Best_Resolution Boost_Clock Core_Speed  DVI_Connection  \\\n",
      "0     Tesla G92b              NaN         NaN    738 MHz             2.0   \n",
      "1        R600 XT       1366 x 768         NaN       \\n-              2.0   \n",
      "2       R600 PRO       1366 x 768         NaN       \\n-              2.0   \n",
      "3          RV630       1024 x 768         NaN       \\n-              2.0   \n",
      "4          RV630       1024 x 768         NaN       \\n-              2.0   \n",
      "...           ...             ...         ...        ...             ...   \n",
      "3401       MCP61              NaN         NaN       \\n-              1.0   \n",
      "3402       MCP61              NaN         NaN       \\n-              0.0   \n",
      "3403       MCP51              NaN         NaN       \\n-              0.0   \n",
      "3404       MCP51              NaN         NaN       \\n-              NaN   \n",
      "3405        NV43              NaN         NaN       \\n-              1.0   \n",
      "\n",
      "     Dedicated Direct_X  DisplayPort_Connection  HDMI_Connection Integrated  \\\n",
      "0          Yes  DX 10.0                     NaN              0.0         No   \n",
      "1          Yes    DX 10                     NaN              0.0         No   \n",
      "2          Yes    DX 10                     NaN              0.0         No   \n",
      "3          Yes    DX 10                     NaN              0.0         No   \n",
      "4          Yes    DX 10                     NaN              0.0         No   \n",
      "...        ...      ...                     ...              ...        ...   \n",
      "3401        No  DX 9.0c                     NaN              1.0        Yes   \n",
      "3402        No  DX 9.0c                     NaN              0.0        Yes   \n",
      "3403       NaN     DX 9                     NaN              0.0        NaN   \n",
      "3404        No  DX 9.0c                     NaN              0.0        Yes   \n",
      "3405       Yes  DX 9.0c                     NaN              0.0         No   \n",
      "\n",
      "      ... Process ROPs    Release_Date Release_Price Resolution_WxH  \\\n",
      "0     ...    55nm   16  \\n01-Mar-2009            NaN      2560x1600   \n",
      "1     ...    80nm   16  \\n14-May-2007            NaN      2560x1600   \n",
      "2     ...    80nm   16  \\n07-Dec-2007            NaN      2560x1600   \n",
      "3     ...    65nm    4  \\n01-Jul-2007            NaN      2560x1600   \n",
      "4     ...    65nm    4  \\n28-Jun-2007            NaN      2560x1600   \n",
      "...   ...     ...  ...             ...           ...            ...   \n",
      "3401  ...     NaN  NaN  \\n01-Jun-2006            NaN      2560x1600   \n",
      "3402  ...     NaN  NaN  \\n01-Jun-2006            NaN      2560x1600   \n",
      "3403  ...     NaN  NaN  \\n20-Oct-2005            NaN            NaN   \n",
      "3404  ...     NaN  NaN  \\n01-Nov-2005            NaN      2560x1600   \n",
      "3405  ...     NaN  NaN  \\n02-Jan-2004            NaN      2560x1600   \n",
      "\n",
      "     SLI_Crossfire Shader  TMUs Texture_Rate VGA_Connection  \n",
      "0              Yes    4.0  64.0  47 GTexel/s            0.0  \n",
      "1              Yes    4.0  16.0  12 GTexel/s            0.0  \n",
      "2              Yes    4.0  16.0  10 GTexel/s            0.0  \n",
      "3              Yes    4.0   8.0   7 GTexel/s            0.0  \n",
      "4              Yes    4.0   8.0   6 GTexel/s            0.0  \n",
      "...            ...    ...   ...          ...            ...  \n",
      "3401            No    3.0   NaN          NaN            1.0  \n",
      "3402            No    3.0   NaN          NaN            1.0  \n",
      "3403            No    NaN   NaN          NaN            0.0  \n",
      "3404            No    3.0   NaN          NaN            1.0  \n",
      "3405            No    3.0   NaN          NaN            1.0  \n",
      "\n",
      "[3406 rows x 34 columns]\n"
     ]
    }
   ],
   "source": [
    "print(data)"
   ]
  },
  {
   "cell_type": "code",
   "execution_count": 8,
   "id": "dce45b22-368b-4bf3-95f4-8fc08fe420cc",
   "metadata": {},
   "outputs": [],
   "source": [
    "Intel = pd.read_csv('Intel_CPUs.csv')"
   ]
  },
  {
   "cell_type": "code",
   "execution_count": 9,
   "id": "c19c7259-b57f-461f-bc4c-f997943f733f",
   "metadata": {},
   "outputs": [
    {
     "name": "stdout",
     "output_type": "stream",
     "text": [
      "                             Product_Collection Vertical_Segment  \\\n",
      "0     7th Generation Intel® Core™ i7 Processors           Mobile   \n",
      "1     8th Generation Intel® Core™ i5 Processors           Mobile   \n",
      "2     8th Generation Intel® Core™ i7 Processors           Mobile   \n",
      "3              Intel® Core™ X-series Processors          Desktop   \n",
      "4     7th Generation Intel® Core™ i5 Processors           Mobile   \n",
      "...                                         ...              ...   \n",
      "2278   6th Generation Intel® Core™ m Processors           Mobile   \n",
      "2279   6th Generation Intel® Core™ m Processors           Mobile   \n",
      "2280   6th Generation Intel® Core™ m Processors           Mobile   \n",
      "2281  5th Generation Intel® Core™ i7 Processors           Mobile   \n",
      "2282  5th Generation Intel® Core™ i7 Processors           Mobile   \n",
      "\n",
      "     Processor_Number       Status Launch_Date Lithography  \\\n",
      "0             i7-7Y75     Launched       Q3'16       14 nm   \n",
      "1            i5-8250U     Launched       Q3'17       14 nm   \n",
      "2            i7-8550U     Launched       Q3'17       14 nm   \n",
      "3             i7-3820  End of Life       Q1'12       32 nm   \n",
      "4             i5-7Y57     Launched       Q1'17       14 nm   \n",
      "...               ...          ...         ...         ...   \n",
      "2278          M5-6Y54     Launched       Q3'15       14 nm   \n",
      "2279          M5-6Y57     Launched       Q3'15       14 nm   \n",
      "2280          M7-6Y75     Launched       Q3'15       14 nm   \n",
      "2281         i7-5550U     Launched       Q1'15       14 nm   \n",
      "2282         i7-5557U     Launched       Q1'15       14 nm   \n",
      "\n",
      "     Recommended_Customer_Price  nb_of_Cores  nb_of_Threads  \\\n",
      "0                      $393.00             2            4.0   \n",
      "1                      $297.00             4            8.0   \n",
      "2                      $409.00             4            8.0   \n",
      "3                      $305.00             4            8.0   \n",
      "4                      $281.00             2            4.0   \n",
      "...                         ...          ...            ...   \n",
      "2278                   $281.00             2            4.0   \n",
      "2279                   $281.00             2            4.0   \n",
      "2280                   $393.00             2            4.0   \n",
      "2281                   $426.00             2            4.0   \n",
      "2282                   $426.00             2            4.0   \n",
      "\n",
      "     Processor_Base_Frequency  ...       T Intel_Hyper_Threading_Technology_  \\\n",
      "0                    1.30 GHz  ...   100°C                               Yes   \n",
      "1                    1.60 GHz  ...   100°C                               Yes   \n",
      "2                    1.80 GHz  ...   100°C                               Yes   \n",
      "3                    3.60 GHz  ...  66.8°C                               Yes   \n",
      "4                    1.20 GHz  ...   100°C                               Yes   \n",
      "...                       ...  ...     ...                               ...   \n",
      "2278                 1.10 GHz  ...   100°C                               Yes   \n",
      "2279                 1.10 GHz  ...   100°C                               Yes   \n",
      "2280                 1.20 GHz  ...   100°C                               Yes   \n",
      "2281                 2.00 GHz  ...   105°C                               Yes   \n",
      "2282                 3.10 GHz  ...   105°C                               Yes   \n",
      "\n",
      "     Intel_Virtualization_Technology_VTx_ Intel_64_ Instruction_Set  \\\n",
      "0                                     Yes       Yes          64-bit   \n",
      "1                                     Yes       Yes          64-bit   \n",
      "2                                     Yes       Yes          64-bit   \n",
      "3                                     Yes       Yes          64-bit   \n",
      "4                                     Yes       Yes          64-bit   \n",
      "...                                   ...       ...             ...   \n",
      "2278                                  Yes       Yes          64-bit   \n",
      "2279                                  Yes       Yes          64-bit   \n",
      "2280                                  Yes       Yes          64-bit   \n",
      "2281                                  Yes       Yes          64-bit   \n",
      "2282                                  Yes       Yes          64-bit   \n",
      "\n",
      "     Instruction_Set_Extensions Idle_States Thermal_Monitoring_Technologies  \\\n",
      "0           SSE4.1/4.2, AVX 2.0         Yes                             Yes   \n",
      "1           SSE4.1/4.2, AVX 2.0         Yes                             Yes   \n",
      "2           SSE4.1/4.2, AVX 2.0         Yes                             Yes   \n",
      "3              SSE4.2, AVX, AES         Yes                             Yes   \n",
      "4           SSE4.1/4.2, AVX 2.0         Yes                             Yes   \n",
      "...                         ...         ...                             ...   \n",
      "2278        SSE4.1/4.2, AVX 2.0         Yes                             Yes   \n",
      "2279        SSE4.1/4.2, AVX 2.0         Yes                             Yes   \n",
      "2280        SSE4.1/4.2, AVX 2.0         Yes                             Yes   \n",
      "2281        SSE4.1/4.2, AVX 2.0         Yes                             Yes   \n",
      "2282        SSE4.1/4.2, AVX 2.0         Yes                             Yes   \n",
      "\n",
      "      Secure_Key Execute_Disable_Bit  \n",
      "0            Yes                 Yes  \n",
      "1            Yes                 Yes  \n",
      "2            Yes                 Yes  \n",
      "3            NaN                 Yes  \n",
      "4            Yes                 Yes  \n",
      "...          ...                 ...  \n",
      "2278         Yes                 Yes  \n",
      "2279         Yes                 Yes  \n",
      "2280         Yes                 Yes  \n",
      "2281         Yes                 Yes  \n",
      "2282         Yes                 Yes  \n",
      "\n",
      "[2283 rows x 45 columns]\n"
     ]
    }
   ],
   "source": [
    "print(Intel)"
   ]
  },
  {
   "cell_type": "code",
   "execution_count": 11,
   "id": "134dcf3d-fbd4-4379-8809-436fbe660637",
   "metadata": {},
   "outputs": [],
   "source": [
    "import matplotlib.pyplot as plt\n"
   ]
  },
  {
   "cell_type": "code",
   "execution_count": null,
   "id": "722c38c1",
   "metadata": {},
   "outputs": [],
   "source": [
    "Intel.plot(x='Product_Collection', y='Processor_Base_Frequency', kind='bar')"
   ]
  }
 ],
 "metadata": {
  "kernelspec": {
   "display_name": "Python 3 (ipykernel)",
   "language": "python",
   "name": "python3"
  },
  "language_info": {
   "codemirror_mode": {
    "name": "ipython",
    "version": 3
   },
   "file_extension": ".py",
   "mimetype": "text/x-python",
   "name": "python",
   "nbconvert_exporter": "python",
   "pygments_lexer": "ipython3",
   "version": "3.12.2"
  }
 },
 "nbformat": 4,
 "nbformat_minor": 5
}
